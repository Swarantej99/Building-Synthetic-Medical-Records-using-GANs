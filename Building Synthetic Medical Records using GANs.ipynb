{
 "cells": [
  {
   "cell_type": "markdown",
   "id": "7919a979",
   "metadata": {},
   "source": [
    "# **Building Synthetic Medical Records using GANs**"
   ]
  },
  {
   "cell_type": "markdown",
   "id": "8cf2df4a",
   "metadata": {},
   "source": [
    "### *You’ve probably seen AI generate images, text, and even code. You can use the same technology to create realistic synthetic datasets for healthcare, finance, and more.*"
   ]
  },
  {
   "cell_type": "markdown",
   "id": "d81ea7ca",
   "metadata": {},
   "source": [
    "### For building synthetic medical records using GANs, we’ll break it down into the following steps:\n",
    "\n",
    "1)Data Preprocessing\n",
    "\n",
    "2)GAN Architecture\n",
    "\n",
    "3)Training Loop\n",
    "\n",
    "4)Evaluating Model Performance\n",
    "\n",
    "5)Generating Synthetic Medical Records"
   ]
  },
  {
   "cell_type": "markdown",
   "id": "4fcff75f",
   "metadata": {},
   "source": [
    "## 1)Data Preprocessing: Where most GAN projects fail before they start\n",
    "**GANs understand numbers, not text, not categorical labels. So our first job is to:**\n",
    "\n",
    "1)Convert categorical features into one-hot encoded vectors\n",
    "\n",
    "2)Scale numerical values between -1 and 1 (because our Generator uses Tanh activation)"
   ]
  },
  {
   "cell_type": "code",
   "execution_count": 1,
   "id": "a8d9fdfa",
   "metadata": {},
   "outputs": [
    {
     "name": "stdout",
     "output_type": "stream",
     "text": [
      "   patient_id  visit_date  age_years  weight_kg   bmi  systolic_bp_mmHg  \\\n",
      "0  P-2025-001  2024-02-15         52       83.7  28.3               138   \n",
      "1  P-2025-001  2024-03-15         52       83.4  28.2               147   \n",
      "2  P-2025-001  2024-04-15         52       83.1  28.1               140   \n",
      "3  P-2025-001  2024-05-15         52       83.0  28.1               136   \n",
      "4  P-2025-001  2024-06-15         52       82.6  27.9               133   \n",
      "\n",
      "   diastolic_bp_mmHg  heart_rate_bpm  body_temp_C  fasting_glucose_mg_dL  ...  \\\n",
      "0                 86              80         36.8                    137  ...   \n",
      "1                 89              80         37.0                    140  ...   \n",
      "2                 84              76         36.8                    122  ...   \n",
      "3                 88              77         36.8                    112  ...   \n",
      "4                 88              78         36.8                    101  ...   \n",
      "\n",
      "   diet_quality_score_0_100  sleep_hours  exercise_sessions_per_week  \\\n",
      "0                        62          6.6                           3   \n",
      "1                        61          6.8                           2   \n",
      "2                        65          7.0                           3   \n",
      "3                        66          7.8                           1   \n",
      "4                        54          7.0                           2   \n",
      "\n",
      "   alcohol_units_per_week  smoking_cigs_per_day  \\\n",
      "0                       0                     0   \n",
      "1                       1                     0   \n",
      "2                       3                     0   \n",
      "3                       0                     0   \n",
      "4                       3                     0   \n",
      "\n",
      "                                      clinical_notes  neuropathy  retinopathy  \\\n",
      "0  Baseline visit: poor glycemic control; lifesty...           0            0   \n",
      "1                                 Routine follow-up.           0            0   \n",
      "2  Reports tingling in feet at night; B12 checked...           0            0   \n",
      "3                                 Routine follow-up.           0            0   \n",
      "4  SGLT2 inhibitor added due to persistent hyperg...           0            0   \n",
      "\n",
      "   hypoglycemia  uti  \n",
      "0             0    0  \n",
      "1             0    0  \n",
      "2             0    1  \n",
      "3             0    0  \n",
      "4             0    0  \n",
      "\n",
      "[5 rows x 34 columns]\n"
     ]
    }
   ],
   "source": [
    "import pandas as pd\n",
    "\n",
    "df = pd.read_csv(\"Users/allullaswarantej/Downloads/Follow-up_Records.csv\")\n",
    "\n",
    "print(df.head())"
   ]
  },
  {
   "cell_type": "code",
   "execution_count": 2,
   "id": "a7f86b5d",
   "metadata": {},
   "outputs": [],
   "source": [
    "from sklearn.preprocessing import MinMaxScaler, OneHotEncoder\n",
    "import numpy as np\n",
    "\n",
    "num_cols = df.select_dtypes(include=['int64', 'float64']).columns\n",
    "cat_cols = df.select_dtypes(include=['object']).columns\n",
    "\n",
    "encoder = OneHotEncoder(sparse_output=False)\n",
    "cat_encoded = encoder.fit_transform(df[cat_cols])\n",
    "\n",
    "scaler = MinMaxScaler(feature_range=(-1, 1))\n",
    "num_scaled = scaler.fit_transform(df[num_cols])\n",
    "\n",
    "# combine processed data\n",
    "data_processed = np.hstack((num_scaled, cat_encoded))"
   ]
  },
  {
   "cell_type": "markdown",
   "id": "db79e105",
   "metadata": {},
   "source": [
    "**If you skip preprocessing your GAN will either:**\n",
    "\n",
    "Fail to learn patterns (mode collapse)\n",
    "\n",
    "Generate nonsensical outputs\n",
    "\n",
    "Scaling is significant because Tanh outputs range from -1 to 1."
   ]
  },
  {
   "cell_type": "markdown",
   "id": "bf2c555f",
   "metadata": {},
   "source": [
    "## 2)GAN Architecture: Two networks playing a game\n",
    "\n",
    "A GAN has a:\n",
    "\n",
    "**Generator:** Starts with random noise, learns to produce realistic samples\n",
    "\n",
    "**Discriminator:** Tries to tell real from fake data"
   ]
  },
  {
   "cell_type": "code",
   "execution_count": 3,
   "id": "7c49702d",
   "metadata": {},
   "outputs": [],
   "source": [
    "import torch\n",
    "import torch.nn as nn"
   ]
  },
  {
   "cell_type": "code",
   "execution_count": 4,
   "id": "72331e37",
   "metadata": {},
   "outputs": [],
   "source": [
    "data_dim = data_processed.shape[1]  # total features\n",
    "latent_dim = 64  # size of random noise input\n",
    "\n",
    "# generator\n",
    "class Generator(nn.Module):\n",
    "    def __init__(self):\n",
    "        super(Generator, self).__init__()\n",
    "        self.model = nn.Sequential(\n",
    "            nn.Linear(latent_dim, 128),\n",
    "            nn.LeakyReLU(0.2),\n",
    "            nn.Linear(128, 256),\n",
    "            nn.LeakyReLU(0.2),\n",
    "            nn.Linear(256, data_dim),\n",
    "            nn.Tanh()  # output in range [-1, 1]\n",
    "        )\n",
    "    def forward(self, z):\n",
    "        return self.model(z)\n",
    "\n",
    "# discriminator\n",
    "class Discriminator(nn.Module):\n",
    "    def __init__(self):\n",
    "        super(Discriminator, self).__init__()\n",
    "        self.model = nn.Sequential(\n",
    "            nn.Linear(data_dim, 256),\n",
    "            nn.LeakyReLU(0.2),\n",
    "            nn.Linear(256, 128),\n",
    "            nn.LeakyReLU(0.2),\n",
    "            nn.Linear(128, 1),\n",
    "            nn.Sigmoid()  # probability of real/fake\n",
    "        )\n",
    "    def forward(self, x):\n",
    "        return self.model(x)"
   ]
  },
  {
   "cell_type": "markdown",
   "id": "ec939f2b",
   "metadata": {},
   "source": [
    "**While building GANs, always make sure to:**\n",
    "\n",
    "Use **LeakyReLU** in hidden layers to avoid “dead” neurons.\n",
    "\n",
    "Match Generator’s output range (Tanh) with your data scaling.\n",
    "\n",
    "Keep the architecture small at first; big models overfit small datasets quickly."
   ]
  },
  {
   "cell_type": "markdown",
   "id": "24d27837",
   "metadata": {},
   "source": [
    "## 3) Training Loop: Where the Model Learns\n",
    "\n",
    "Upnext, we will train both networks in turns:\n",
    "\n",
    "**Discriminator:** Learns to classify real vs fake correctly\n",
    "\n",
    "**Generator:** Learns to fool the Discriminator"
   ]
  },
  {
   "cell_type": "code",
   "execution_count": 5,
   "id": "8869e794",
   "metadata": {},
   "outputs": [],
   "source": [
    "from torch.utils.data import DataLoader, TensorDataset"
   ]
  },
  {
   "cell_type": "code",
   "execution_count": 6,
   "id": "e9f3573f",
   "metadata": {},
   "outputs": [
    {
     "name": "stdout",
     "output_type": "stream",
     "text": [
      "Epoch [0/2000]  D_loss: 0.6890  G_loss: 0.6736\n",
      "Epoch [200/2000]  D_loss: 0.1810  G_loss: 1.6598\n",
      "Epoch [400/2000]  D_loss: 0.7586  G_loss: 1.5357\n",
      "Epoch [600/2000]  D_loss: 0.2532  G_loss: 2.6024\n",
      "Epoch [800/2000]  D_loss: 0.2025  G_loss: 3.7295\n",
      "Epoch [1000/2000]  D_loss: 0.2216  G_loss: 2.2439\n",
      "Epoch [1200/2000]  D_loss: 0.1681  G_loss: 2.2328\n",
      "Epoch [1400/2000]  D_loss: 0.0373  G_loss: 2.5638\n",
      "Epoch [1600/2000]  D_loss: 0.0565  G_loss: 2.1592\n",
      "Epoch [1800/2000]  D_loss: 0.0421  G_loss: 3.5040\n"
     ]
    }
   ],
   "source": [
    "# convert data to PyTorch tensors\n",
    "real_data = torch.tensor(data_processed, dtype=torch.float32)\n",
    "dataset = TensorDataset(real_data)\n",
    "loader = DataLoader(dataset, batch_size=16, shuffle=True)\n",
    "\n",
    "# initialize models\n",
    "generator = Generator()\n",
    "discriminator = Discriminator()\n",
    "\n",
    "# optimizers\n",
    "lr = 0.0002\n",
    "optim_G = torch.optim.Adam(generator.parameters(), lr=lr)\n",
    "optim_D = torch.optim.Adam(discriminator.parameters(), lr=lr)\n",
    "\n",
    "# loss\n",
    "criterion = nn.BCELoss()\n",
    "\n",
    "epochs = 2000\n",
    "for epoch in range(epochs):\n",
    "    for real_batch, in loader:\n",
    "        batch_size = real_batch.size(0)\n",
    "\n",
    "        # labels for real and fake data\n",
    "        real_labels = torch.ones((batch_size, 1))\n",
    "        fake_labels = torch.zeros((batch_size, 1))\n",
    "\n",
    "        # train discriminator\n",
    "        z = torch.randn(batch_size, latent_dim)\n",
    "        fake_data = generator(z)\n",
    "\n",
    "        real_loss = criterion(discriminator(real_batch), real_labels)\n",
    "        fake_loss = criterion(discriminator(fake_data.detach()), fake_labels)\n",
    "        d_loss = (real_loss + fake_loss) / 2\n",
    "\n",
    "        optim_D.zero_grad()\n",
    "        d_loss.backward()\n",
    "        optim_D.step()\n",
    "\n",
    "        # train generator\n",
    "        z = torch.randn(batch_size, latent_dim)\n",
    "        fake_data = generator(z)\n",
    "        g_loss = criterion(discriminator(fake_data), real_labels)  # want fake to be real\n",
    "\n",
    "        optim_G.zero_grad()\n",
    "        g_loss.backward()\n",
    "        optim_G.step()\n",
    "\n",
    "    if epoch % 200 == 0:\n",
    "        print(f\"Epoch [{epoch}/{epochs}]  D_loss: {d_loss.item():.4f}  G_loss: {g_loss.item():.4f}\")"
   ]
  },
  {
   "cell_type": "markdown",
   "id": "e5eabc17",
   "metadata": {},
   "source": [
    "## 5)Generating Synthetic Medical Records\n",
    "\n",
    "Once trained, we can sample new patient records from random noise:\n",
    "\n"
   ]
  },
  {
   "cell_type": "code",
   "execution_count": 7,
   "id": "4c778d85",
   "metadata": {},
   "outputs": [
    {
     "name": "stdout",
     "output_type": "stream",
     "text": [
      "   age_years  weight_kg        bmi  systolic_bp_mmHg  diastolic_bp_mmHg  \\\n",
      "0  52.215721  81.647049  27.470219        132.253036          75.502655   \n",
      "1  52.000015  83.323463  28.208431        139.023346          87.512344   \n",
      "2  52.000000  83.676216  28.296289        143.129211          80.897232   \n",
      "3  52.013641  82.676727  27.854200        136.505112          80.290665   \n",
      "4  52.997349  80.907654  27.324089        121.709457          76.158119   \n",
      "5  52.004547  82.693222  27.940123        137.178101          77.277008   \n",
      "6  52.000919  82.734573  27.915161        137.230469          86.769585   \n",
      "7  52.025944  82.288742  27.799381        135.899490          78.339447   \n",
      "8  52.000843  83.002518  28.023554        138.547623          87.643448   \n",
      "9  52.000000  83.487457  28.240891        141.202377          90.832367   \n",
      "\n",
      "   heart_rate_bpm  body_temp_C  fasting_glucose_mg_dL  \\\n",
      "0       74.158348    36.705112              85.436127   \n",
      "1       79.873962    37.009682             137.123260   \n",
      "2       79.996880    36.817318             139.832840   \n",
      "3       75.962662    36.763786              96.284760   \n",
      "4       74.005478    36.705856              85.188614   \n",
      "5       78.381996    36.766708             104.589676   \n",
      "6       78.356201    36.840824             112.973190   \n",
      "7       74.673019    36.715553              87.931793   \n",
      "8       78.488861    36.861519             115.783997   \n",
      "9       79.967720    37.026943             138.431366   \n",
      "\n",
      "   postprandial_glucose_mg_dL  hba1c_percent  ...  alcohol_units_per_week  \\\n",
      "0                  131.278168       6.854293  ...                4.319317   \n",
      "1                  173.883316       8.665752  ...                0.425587   \n",
      "2                  184.890671       8.758296  ...                0.467762   \n",
      "3                  151.280273       7.741313  ...                2.988768   \n",
      "4                  122.275482       6.665688  ...                2.811751   \n",
      "5                  167.756531       7.998872  ...                3.536950   \n",
      "6                  148.034302       8.221546  ...                1.342912   \n",
      "7                  146.305801       7.360983  ...                3.772049   \n",
      "8                  150.811523       8.336457  ...                0.950872   \n",
      "9                  146.792542       8.731193  ...                0.025249   \n",
      "\n",
      "   smoking_cigs_per_day    neuropathy   retinopathy  hypoglycemia       uti  \\\n",
      "0          1.398921e-04  1.696646e-04  1.309216e-04      0.001586  0.318696   \n",
      "1          1.097840e-02  4.792213e-05  1.667738e-04      0.003299  0.012369   \n",
      "2          4.025191e-03  1.788139e-07  3.725290e-06      0.000481  0.064014   \n",
      "3          1.887268e-02  4.787713e-03  5.465209e-03      0.021192  0.277486   \n",
      "4          6.258488e-07  2.443790e-06  2.682209e-06      0.000067  0.016124   \n",
      "5          1.200694e-02  2.321482e-03  2.674401e-03      0.035676  0.325926   \n",
      "6          2.380818e-03  8.454919e-05  1.758933e-04      0.001287  0.003470   \n",
      "7          3.714830e-03  1.356959e-03  1.642257e-03      0.007111  0.544037   \n",
      "8          9.521186e-03  3.402531e-04  8.086264e-04      0.003349  0.015761   \n",
      "9          7.122755e-05  0.000000e+00  8.940697e-08      0.000004  0.000003   \n",
      "\n",
      "   patient_id  visit_date                                        medications  \\\n",
      "0  P-2025-001  2024-10-15  Metformin 1000 mg BID, Ramipril 5 mg QD, Atorv...   \n",
      "1  P-2025-001  2024-02-15  Metformin 1000 mg BID, Ramipril 5 mg QD, Atorv...   \n",
      "2  P-2025-001  2024-02-15  Metformin 1000 mg BID, Ramipril 5 mg QD, Atorv...   \n",
      "3  P-2025-001  2024-10-15  Metformin 1000 mg BID, Ramipril 5 mg QD, Atorv...   \n",
      "4  P-2025-001  2025-02-15  Metformin 1000 mg BID, Ramipril 5 mg QD, Atorv...   \n",
      "5  P-2025-001  2024-12-15  Metformin 1000 mg BID, Ramipril 5 mg QD, Atorv...   \n",
      "6  P-2025-001  2024-08-15  Metformin 1000 mg BID, Ramipril 5 mg QD, Atorv...   \n",
      "7  P-2025-001  2024-10-15  Metformin 1000 mg BID, Ramipril 5 mg QD, Atorv...   \n",
      "8  P-2025-001  2024-08-15  Metformin 1000 mg BID, Ramipril 5 mg QD, Atorv...   \n",
      "9  P-2025-001  2024-08-15  Metformin 1000 mg BID, Ramipril 5 mg QD, Atorv...   \n",
      "\n",
      "                                      clinical_notes  \n",
      "0                                 Routine follow-up.  \n",
      "1                                 Routine follow-up.  \n",
      "2  Baseline visit: poor glycemic control; lifesty...  \n",
      "3                                 Routine follow-up.  \n",
      "4                                 Routine follow-up.  \n",
      "5  Reports tingling in feet at night; B12 checked...  \n",
      "6                                 Routine follow-up.  \n",
      "7                                 Routine follow-up.  \n",
      "8                                 Routine follow-up.  \n",
      "9                                 Routine follow-up.  \n",
      "\n",
      "[10 rows x 34 columns]\n"
     ]
    }
   ],
   "source": [
    "# generate new synthetic data\n",
    "z = torch.randn(10, latent_dim)  # 10 synthetic samples\n",
    "synthetic_data_scaled = generator(z).detach().numpy()\n",
    "\n",
    "# inverse transform\n",
    "num_synthetic = scaler.inverse_transform(synthetic_data_scaled[:, :len(num_cols)])\n",
    "cat_synthetic = encoder.inverse_transform(synthetic_data_scaled[:, len(num_cols):])\n",
    "\n",
    "# combine into dataframe\n",
    "synthetic_df = pd.DataFrame(num_synthetic, columns=num_cols)\n",
    "synthetic_df[cat_cols] = cat_synthetic\n",
    "\n",
    "print(synthetic_df)"
   ]
  },
  {
   "cell_type": "markdown",
   "id": "a6af68fd",
   "metadata": {},
   "source": [
    "### **Now we have privacy-safe, realistic-looking data for experiments. It can also be used to augment training datasets for better ML model performance.**"
   ]
  },
  {
   "cell_type": "markdown",
   "id": "13f3173e",
   "metadata": {},
   "source": [
    "### Building GANs for real-world datasets like medical records is more about:\n",
    "\n",
    "**Data preprocessing discipline**\n",
    "\n",
    "**Matching architecture to data**\n",
    "\n",
    "**Careful training to avoid collapse**\n",
    "\n",
    "**Post-processing to make data usable**"
   ]
  }
 ],
 "metadata": {
  "kernelspec": {
   "display_name": "Python 3",
   "language": "python",
   "name": "python3"
  },
  "language_info": {
   "codemirror_mode": {
    "name": "ipython",
    "version": 3
   },
   "file_extension": ".py",
   "mimetype": "text/x-python",
   "name": "python",
   "nbconvert_exporter": "python",
   "pygments_lexer": "ipython3",
   "version": "3.9.6"
  }
 },
 "nbformat": 4,
 "nbformat_minor": 5
}
